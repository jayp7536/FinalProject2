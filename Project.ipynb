{
 "cells": [
  {
   "cell_type": "markdown",
   "metadata": {},
   "source": [
    "# Introduction\n",
    "## Best Neighborhood in case of a Zombie Apocalypse \n",
    "**Introduce the project, your approach, talk about the process of how you came up with the metric and some alternatives you may have explored.**\n",
    "We chose to find the best neighboorhood in case of a zombie apocalypse. \n",
    "\n",
    "## The Metric \n",
    "The metric is to find the best neighborhood in case of a zombie apocalypse. We decided to base our stuff on the least amunt of people in a neighborhood but on the most parks and bridges. \n",
    "\n",
    "Therfore, our datasets are  \n",
    "\n",
    "**Parks**: Having more parks means that you have more space to hide/avoid zombies. \n",
    "\n",
    "Bridges: \n",
    "\n",
    "Population: \n",
    "\n",
    "\n"
   ]
  },
  {
   "cell_type": "code",
<<<<<<< HEAD
<<<<<<< HEAD
   "execution_count": 11,
=======
   "execution_count": null,
>>>>>>> ea66f616750dae7e36b6fd17799f9faa978bc937
=======
   "execution_count": 7,
>>>>>>> 8ef627be14ffbbac17c7dfd6f211d35e9616b0ea
   "metadata": {},
   "outputs": [],
   "source": [
    "import pandas as pd\n",
    "import numpy as np\n",
<<<<<<< HEAD
=======
    "import math\n",
    "import geopandas as gpd\n",
>>>>>>> ea66f616750dae7e36b6fd17799f9faa978bc937
    "%matplotlib inline\n",
    "import matplotlib.pyplot as plt"
   ]
  },
  {
   "cell_type": "markdown",
   "metadata": {},
   "source": [
    "# Parks Dataset \n",
    "**By Maia Harmon**\n",
    "\n",
    "My goal is to find out how many parks are in each neighborhood because having more parks would mean there is space to hide or avoid the zombies. "
   ]
  },
  {
   "cell_type": "code",
   "execution_count": 3,
   "metadata": {
    "collapsed": true,
    "jupyter": {
     "outputs_hidden": true
    }
   },
   "outputs": [
    {
     "data": {
      "text/html": [
       "<div>\n",
       "<style scoped>\n",
       "    .dataframe tbody tr th:only-of-type {\n",
       "        vertical-align: middle;\n",
       "    }\n",
       "\n",
       "    .dataframe tbody tr th {\n",
       "        vertical-align: top;\n",
       "    }\n",
       "\n",
       "    .dataframe thead th {\n",
       "        text-align: right;\n",
       "    }\n",
       "</style>\n",
       "<table border=\"1\" class=\"dataframe\">\n",
       "  <thead>\n",
       "    <tr style=\"text-align: right;\">\n",
       "      <th></th>\n",
       "      <th>id</th>\n",
       "      <th>name</th>\n",
       "      <th>type</th>\n",
       "      <th>maintenance_responsibility</th>\n",
       "      <th>image</th>\n",
       "      <th>neighborhood</th>\n",
       "      <th>council_district</th>\n",
       "      <th>ward</th>\n",
       "      <th>tract</th>\n",
       "      <th>public_works_division</th>\n",
       "      <th>pli_division</th>\n",
       "      <th>police_zone</th>\n",
       "      <th>fire_zone</th>\n",
       "      <th>latitude</th>\n",
       "      <th>longitude</th>\n",
       "    </tr>\n",
       "  </thead>\n",
       "  <tbody>\n",
       "    <tr>\n",
       "      <th>0</th>\n",
       "      <td>2111959181</td>\n",
       "      <td>Able Long Park</td>\n",
       "      <td>Park</td>\n",
       "      <td>Parks - Southern</td>\n",
       "      <td>https://tools.wprdc.org/images/pittsburgh/park...</td>\n",
       "      <td>Beechview</td>\n",
       "      <td>4</td>\n",
       "      <td>19</td>\n",
       "      <td>42003192000</td>\n",
       "      <td>5</td>\n",
       "      <td>19</td>\n",
       "      <td>6</td>\n",
       "      <td>4-28</td>\n",
       "      <td>40.408118</td>\n",
       "      <td>-80.028197</td>\n",
       "    </tr>\n",
       "    <tr>\n",
       "      <th>1</th>\n",
       "      <td>1109513049</td>\n",
       "      <td>Albert Turk Graham Park</td>\n",
       "      <td>Park</td>\n",
       "      <td>Parks - Schenley</td>\n",
       "      <td>https://tools.wprdc.org/images/pittsburgh/park...</td>\n",
       "      <td>Crawford-Roberts</td>\n",
       "      <td>6</td>\n",
       "      <td>3</td>\n",
       "      <td>42003030500</td>\n",
       "      <td>3</td>\n",
       "      <td>3</td>\n",
       "      <td>2</td>\n",
       "      <td>2-1</td>\n",
       "      <td>40.440507</td>\n",
       "      <td>-79.984018</td>\n",
       "    </tr>\n",
       "    <tr>\n",
       "      <th>2</th>\n",
       "      <td>1544096765</td>\n",
       "      <td>Alcoa Park</td>\n",
       "      <td>Park</td>\n",
       "      <td>Parks - Northern</td>\n",
       "      <td>NaN</td>\n",
       "      <td>North Shore</td>\n",
       "      <td>1</td>\n",
       "      <td>22</td>\n",
       "      <td>42003563200</td>\n",
       "      <td>6</td>\n",
       "      <td>22</td>\n",
       "      <td>1</td>\n",
       "      <td>1-20</td>\n",
       "      <td>40.447481</td>\n",
       "      <td>-80.001017</td>\n",
       "    </tr>\n",
       "    <tr>\n",
       "      <th>3</th>\n",
       "      <td>1212681573</td>\n",
       "      <td>Allegheny Commons</td>\n",
       "      <td>Park</td>\n",
       "      <td>Parks - Northern</td>\n",
       "      <td>NaN</td>\n",
       "      <td>Allegheny Center</td>\n",
       "      <td>1</td>\n",
       "      <td>22</td>\n",
       "      <td>42003562700</td>\n",
       "      <td>1</td>\n",
       "      <td>22</td>\n",
       "      <td>1</td>\n",
       "      <td>1-7</td>\n",
       "      <td>40.453126</td>\n",
       "      <td>-80.009158</td>\n",
       "    </tr>\n",
       "    <tr>\n",
       "      <th>4</th>\n",
       "      <td>954863286</td>\n",
       "      <td>Allegheny Landing Park</td>\n",
       "      <td>Park</td>\n",
       "      <td>Parks - Northern</td>\n",
       "      <td>NaN</td>\n",
       "      <td>North Shore</td>\n",
       "      <td>1</td>\n",
       "      <td>22</td>\n",
       "      <td>42003563200</td>\n",
       "      <td>6</td>\n",
       "      <td>22</td>\n",
       "      <td>1</td>\n",
       "      <td>1-20</td>\n",
       "      <td>40.447184</td>\n",
       "      <td>-80.002907</td>\n",
       "    </tr>\n",
       "  </tbody>\n",
       "</table>\n",
       "</div>"
      ],
      "text/plain": [
       "           id                     name  type maintenance_responsibility  \\\n",
       "0  2111959181           Able Long Park  Park           Parks - Southern   \n",
       "1  1109513049  Albert Turk Graham Park  Park           Parks - Schenley   \n",
       "2  1544096765               Alcoa Park  Park           Parks - Northern   \n",
       "3  1212681573        Allegheny Commons  Park           Parks - Northern   \n",
       "4   954863286   Allegheny Landing Park  Park           Parks - Northern   \n",
       "\n",
       "                                               image      neighborhood  \\\n",
       "0  https://tools.wprdc.org/images/pittsburgh/park...         Beechview   \n",
       "1  https://tools.wprdc.org/images/pittsburgh/park...  Crawford-Roberts   \n",
       "2                                                NaN       North Shore   \n",
       "3                                                NaN  Allegheny Center   \n",
       "4                                                NaN       North Shore   \n",
       "\n",
       "   council_district  ward        tract  public_works_division  pli_division  \\\n",
       "0                 4    19  42003192000                      5            19   \n",
       "1                 6     3  42003030500                      3             3   \n",
       "2                 1    22  42003563200                      6            22   \n",
       "3                 1    22  42003562700                      1            22   \n",
       "4                 1    22  42003563200                      6            22   \n",
       "\n",
       "   police_zone fire_zone   latitude  longitude  \n",
       "0            6      4-28  40.408118 -80.028197  \n",
       "1            2       2-1  40.440507 -79.984018  \n",
       "2            1      1-20  40.447481 -80.001017  \n",
       "3            1       1-7  40.453126 -80.009158  \n",
       "4            1      1-20  40.447184 -80.002907  "
      ]
     },
     "execution_count": 3,
     "metadata": {},
     "output_type": "execute_result"
    }
   ],
   "source": [
    "#Read data from csv file\n",
    "parks = pd.read_csv(\"Dataset for Parks.csv\")\n",
    "# Making a table \n",
    "parks.head(5)"
   ]
  },
  {
   "cell_type": "code",
   "execution_count": 4,
   "metadata": {
    "collapsed": true,
    "jupyter": {
     "outputs_hidden": true
    }
   },
   "outputs": [
    {
     "name": "stdout",
     "output_type": "stream",
     "text": [
      "{'Beechview': 8, 'Crawford-Roberts': 3, 'North Shore': 3, 'Allegheny Center': 2, 'Central Business District': 10, 'Central Northside': 3, 'East Liberty': 12, 'Bedford Dwellings': 1, 'South Side Slopes': 7, 'South Side Flats': 6, 'Lower Lawrenceville': 3, 'Banksville': 2, 'South Oakland': 5, 'Homewood North': 2, 'Hazelwood': 6, 'Bon Air': 1, 'Central Oakland': 4, 'Brighton Heights': 4, 'Brookline': 3, 'Spring Garden': 2, 'Lincoln-Lemington-Belmar': 3, 'Windgap': 1, 'Troy Hill': 5, 'Westwood': 3, 'Perry South': 2, 'Homewood West': 1, 'Squirrel Hill South': 6, 'Strip District': 2, 'Arlington': 1, 'Stanton Heights': 1, 'Crafton Heights': 2, 'Upper Lawrenceville': 3, 'East Carnegie': 1, 'East Hills': 1, 'Point Breeze': 7, 'Allentown': 2, 'Duquesne Heights': 2, 'Mount Washington': 6, 'Esplen': 1, 'Fairywood': 1, 'Fineview': 2, 'Garfield': 3, 'Greenfield': 3, 'Larimer': 3, 'Bloomfield': 3, 'Perry North': 2, 'North Oakland': 1, 'Hays': 1, 'Elliott': 4, 'Highland Park': 2, 'Homewood South': 1, 'Morningside': 1, 'Terrace Village': 2, 'Spring Hill-City View': 3, 'Carrick': 3, 'Central Lawrenceville': 1, 'Lincoln Place': 2, 'Manchester': 3, 'Marshall-Shadeland': 4, 'Sheraden': 6, 'Beltzhoover': 3, 'Point Breeze North': 3, 'Oakwood': 1, 'Polish Hill': 2, 'Regent Square': 1, 'Upper Hill': 1, 'New Homestead': 1, 'West Oakland': 1, 'Swisshelm Park': 3, 'Bluff': 1, 'Middle Hill': 1, 'West End': 2, 'Squirrel Hill North': 1}\n"
     ]
    }
   ],
   "source": [
    "dictionary = dict()\n",
    "\n",
    "for column in parks:\n",
    "    looping = parks['neighborhood'].values\n",
    "\n",
    "for value in looping: \n",
    "    if value not in dictionary:\n",
    "            dictionary[value] = 1\n",
    "    else:\n",
    "        dictionary[value] = dictionary[value] + 1 \n",
    "\n",
    "print(dictionary)"
   ]
  },
  {
   "cell_type": "markdown",
   "metadata": {},
   "source": [
    "This is showing how many times a neighborhood was mentioned in showing how parks were in each neighborhood. The for loop is going through the parks dataset and taking all the values of each time that specific neighborhood was mentioned. The result is the neighborhood with the total amount of times. "
   ]
  },
  {
   "cell_type": "code",
   "execution_count": 5,
   "metadata": {
    "collapsed": true,
    "jupyter": {
     "outputs_hidden": true
    }
   },
   "outputs": [
    {
     "name": "stdout",
     "output_type": "stream",
     "text": [
      "East Liberty                 12\n",
      "Central Business District    10\n",
      "Beechview                     8\n",
      "South Side Slopes             7\n",
      "Point Breeze                  7\n",
      "                             ..\n",
      "Hays                          1\n",
      "Arlington                     1\n",
      "Stanton Heights               1\n",
      "Morningside                   1\n",
      "Squirrel Hill North           1\n",
      "Length: 73, dtype: int64\n"
     ]
    }
   ],
   "source": [
    "#Make into series\n",
    "park_series = pd.Series(dictionary)\n",
    "\n",
    "#Put in descending order \n",
    "park_sorted = park_series.sort_values(ascending=False)\n",
    "print(park_sorted)"
   ]
  },
  {
   "cell_type": "markdown",
   "metadata": {},
   "source": [
    "This is the sorted series of all the neighborhoods. As shown, you can see that **East Liberty** is the neighborhood that has the most parks in it. Below, we are going to plot this data. "
   ]
  },
  {
   "cell_type": "code",
   "execution_count": 6,
   "metadata": {},
   "outputs": [
    {
     "data": {
      "text/plain": [
       "<matplotlib.axes._subplots.AxesSubplot at 0x7fa8d9b3ee50>"
      ]
     },
     "execution_count": 6,
     "metadata": {},
     "output_type": "execute_result"
    },
    {
     "data": {
      "image/png": "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\n",
      "text/plain": [
       "<Figure size 432x288 with 1 Axes>"
      ]
     },
     "metadata": {
      "needs_background": "light"
     },
     "output_type": "display_data"
    }
   ],
   "source": [
    "park_sorted.plot.bar()"
   ]
  },
  {
   "cell_type": "markdown",
   "metadata": {},
   "source": [
    "This is all the data from the beginning, however, we cannot see the words. So, I want to only plot the top neighborhoods that have the most parks. "
   ]
  },
  {
   "cell_type": "code",
   "execution_count": 7,
   "metadata": {},
   "outputs": [
    {
     "name": "stdout",
     "output_type": "stream",
     "text": [
      "East Liberty                 12\n",
      "Central Business District    10\n",
      "Beechview                     8\n",
      "South Side Slopes             7\n",
      "Point Breeze                  7\n",
      "Squirrel Hill South           6\n",
      "dtype: int64\n"
     ]
    }
   ],
   "source": [
    "#Getting only the top 6 \n",
    "top6 = park_sorted.head(6)\n",
    "print(top6)"
   ]
  },
  {
   "cell_type": "code",
   "execution_count": 13,
   "metadata": {},
   "outputs": [
    {
     "data": {
      "text/plain": [
       "Text(0, 0.5, 'Number of Parks')"
      ]
     },
     "execution_count": 8,
     "metadata": {},
     "output_type": "execute_result"
    },
    {
     "data": {
      "image/png": "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\n",
      "text/plain": [
       "<Figure size 432x288 with 1 Axes>"
      ]
     },
     "metadata": {
      "needs_background": "light"
     },
     "output_type": "display_data"
    }
   ],
   "source": [
    "#Plotting the top 6 \n",
    "plt.style.use('seaborn-bright')\n",
    "top6.plot.bar(rot = 20, color=['green', 'red', 'orange', 'yellow', 'purple', 'pink'])\n",
    "plt.title(\"Parks Per Neighborhood\")\n",
    "plt.xlabel(\"Neighborhoods\")\n",
    "plt.ylabel(\"Number of Parks\")"
   ]
  },
  {
   "cell_type": "markdown",
   "metadata": {},
   "source": [
    "Above is the bar graph for the top 6 neighborhoods that have the most parks. "
   ]
  },
  {
   "cell_type": "markdown",
   "metadata": {},
   "source": [
<<<<<<< HEAD
    "#Read data from csv files\n",
    "emergency = pd.read_csv(\"emergency_medical.csv\")\n",
    "population = pd.read_csv(\"Neighborhood_Population.csv\")\n",
    "\n"
=======
    "# Result \n",
    "Finally, we can see that **East Liberty** is the neighborhood that has the most parks in it. "
>>>>>>> ea66f616750dae7e36b6fd17799f9faa978bc937
   ]
  },
  {
   "cell_type": "markdown",
   "metadata": {},
   "source": [
    "# Bridges Datasets \n",
    "\n",
    "**By Kaitlyn Shin**"
   ]
  },
  {
   "cell_type": "markdown",
   "metadata": {},
   "source": [
    "For the Final Project I decided to choose a dataset which focused on bridges.  In the case of a zombie apocalypse, having the most amount of brides conntected to a neighborhood would be beneficial for the residents since the destruction of those bridges would ultimately limit the amount of routes and entrances zombies would be able to enter from.\n",
    "\n",
    "Using this dataset, I will be able to calculate the neighborhoods with the most and least amount of bridge connections in order to conclude which neighborhood would be best in a zombie apocalypse."
   ]
  },
  {
   "cell_type": "code",
   "execution_count": 8,
   "metadata": {
    "collapsed": true,
    "jupyter": {
     "outputs_hidden": true
    }
   },
   "outputs": [
    {
     "data": {
      "text/html": [
       "<div>\n",
       "<style scoped>\n",
       "    .dataframe tbody tr th:only-of-type {\n",
       "        vertical-align: middle;\n",
       "    }\n",
       "\n",
       "    .dataframe tbody tr th {\n",
       "        vertical-align: top;\n",
       "    }\n",
       "\n",
       "    .dataframe thead th {\n",
       "        text-align: right;\n",
       "    }\n",
       "</style>\n",
       "<table border=\"1\" class=\"dataframe\">\n",
       "  <thead>\n",
       "    <tr style=\"text-align: right;\">\n",
       "      <th></th>\n",
       "      <th>id</th>\n",
       "      <th>name</th>\n",
       "      <th>start_neighborhood</th>\n",
       "      <th>end_neighborhood</th>\n",
       "      <th>year_built</th>\n",
       "      <th>year_rehab</th>\n",
       "      <th>image</th>\n",
       "      <th>neighborhood</th>\n",
       "      <th>council_district</th>\n",
       "      <th>ward</th>\n",
       "      <th>tract</th>\n",
       "      <th>public_works_division</th>\n",
       "      <th>pli_division</th>\n",
       "      <th>police_zone</th>\n",
       "      <th>fire_zone</th>\n",
       "      <th>latitude</th>\n",
       "      <th>longitude</th>\n",
       "    </tr>\n",
       "  </thead>\n",
       "  <tbody>\n",
       "    <tr>\n",
       "      <th>0</th>\n",
       "      <td>2002832442</td>\n",
       "      <td>Fort Duquesne Blvd</td>\n",
       "      <td>Central Business District</td>\n",
       "      <td>NaN</td>\n",
       "      <td>NaN</td>\n",
       "      <td>NaN</td>\n",
       "      <td>NaN</td>\n",
       "      <td>Central Business District</td>\n",
       "      <td>6</td>\n",
       "      <td>2.0</td>\n",
       "      <td>42003020100</td>\n",
       "      <td>6.0</td>\n",
       "      <td>2.0</td>\n",
       "      <td>2.0</td>\n",
       "      <td>1-3</td>\n",
       "      <td>40.446450</td>\n",
       "      <td>-79.996537</td>\n",
       "    </tr>\n",
       "    <tr>\n",
       "      <th>1</th>\n",
       "      <td>761156487</td>\n",
       "      <td>28th Street Bridge</td>\n",
       "      <td>Strip District</td>\n",
       "      <td>Polish Hill</td>\n",
       "      <td>1931.0</td>\n",
       "      <td>1974.0</td>\n",
       "      <td>https://tools.wprdc.org/images/pittsburgh/brid...</td>\n",
       "      <td>Strip District</td>\n",
       "      <td>7</td>\n",
       "      <td>6.0</td>\n",
       "      <td>42003060500</td>\n",
       "      <td>6.0</td>\n",
       "      <td>6.0</td>\n",
       "      <td>2.0</td>\n",
       "      <td>2-25</td>\n",
       "      <td>40.456182</td>\n",
       "      <td>-79.973714</td>\n",
       "    </tr>\n",
       "    <tr>\n",
       "      <th>2</th>\n",
       "      <td>290122944</td>\n",
       "      <td>Second Avenue Bridge</td>\n",
       "      <td>Squirrel Hill South</td>\n",
       "      <td>Swisshelm Park</td>\n",
       "      <td>1886.0</td>\n",
       "      <td>1970.0</td>\n",
       "      <td>NaN</td>\n",
       "      <td>Swisshelm Park</td>\n",
       "      <td>5</td>\n",
       "      <td>14.0</td>\n",
       "      <td>42003141400</td>\n",
       "      <td>3.0</td>\n",
       "      <td>14.0</td>\n",
       "      <td>4.0</td>\n",
       "      <td>2-12</td>\n",
       "      <td>40.415210</td>\n",
       "      <td>-79.915699</td>\n",
       "    </tr>\n",
       "    <tr>\n",
       "      <th>3</th>\n",
       "      <td>1811170969</td>\n",
       "      <td>Alexander Street Bridge</td>\n",
       "      <td>West End</td>\n",
       "      <td>NaN</td>\n",
       "      <td>1924.0</td>\n",
       "      <td>2000.0</td>\n",
       "      <td>https://tools.wprdc.org/images/pittsburgh/brid...</td>\n",
       "      <td>West End</td>\n",
       "      <td>2</td>\n",
       "      <td>20.0</td>\n",
       "      <td>42003562600</td>\n",
       "      <td>5.0</td>\n",
       "      <td>20.0</td>\n",
       "      <td>6.0</td>\n",
       "      <td>1-17</td>\n",
       "      <td>40.440063</td>\n",
       "      <td>-80.033353</td>\n",
       "    </tr>\n",
       "    <tr>\n",
       "      <th>4</th>\n",
       "      <td>2047190591</td>\n",
       "      <td>Millvale Trail Pedestrian Bridge</td>\n",
       "      <td>Troy Hill</td>\n",
       "      <td>NaN</td>\n",
       "      <td>NaN</td>\n",
       "      <td>NaN</td>\n",
       "      <td>NaN</td>\n",
       "      <td>Troy Hill</td>\n",
       "      <td>1</td>\n",
       "      <td>24.0</td>\n",
       "      <td>42003240600</td>\n",
       "      <td>1.0</td>\n",
       "      <td>24.0</td>\n",
       "      <td>1.0</td>\n",
       "      <td>1-1</td>\n",
       "      <td>40.466586</td>\n",
       "      <td>-79.977731</td>\n",
       "    </tr>\n",
       "  </tbody>\n",
       "</table>\n",
       "</div>"
      ],
      "text/plain": [
       "           id                              name         start_neighborhood  \\\n",
       "0  2002832442                Fort Duquesne Blvd  Central Business District   \n",
       "1   761156487                28th Street Bridge             Strip District   \n",
       "2   290122944              Second Avenue Bridge        Squirrel Hill South   \n",
       "3  1811170969           Alexander Street Bridge                   West End   \n",
       "4  2047190591  Millvale Trail Pedestrian Bridge                  Troy Hill   \n",
       "\n",
       "  end_neighborhood  year_built  year_rehab  \\\n",
       "0              NaN         NaN         NaN   \n",
       "1      Polish Hill      1931.0      1974.0   \n",
       "2   Swisshelm Park      1886.0      1970.0   \n",
       "3              NaN      1924.0      2000.0   \n",
       "4              NaN         NaN         NaN   \n",
       "\n",
       "                                               image  \\\n",
       "0                                                NaN   \n",
       "1  https://tools.wprdc.org/images/pittsburgh/brid...   \n",
       "2                                                NaN   \n",
       "3  https://tools.wprdc.org/images/pittsburgh/brid...   \n",
       "4                                                NaN   \n",
       "\n",
       "                neighborhood  council_district  ward        tract  \\\n",
       "0  Central Business District                 6   2.0  42003020100   \n",
       "1             Strip District                 7   6.0  42003060500   \n",
       "2             Swisshelm Park                 5  14.0  42003141400   \n",
       "3                   West End                 2  20.0  42003562600   \n",
       "4                  Troy Hill                 1  24.0  42003240600   \n",
       "\n",
       "   public_works_division  pli_division  police_zone fire_zone   latitude  \\\n",
       "0                    6.0           2.0          2.0       1-3  40.446450   \n",
       "1                    6.0           6.0          2.0      2-25  40.456182   \n",
       "2                    3.0          14.0          4.0      2-12  40.415210   \n",
       "3                    5.0          20.0          6.0      1-17  40.440063   \n",
       "4                    1.0          24.0          1.0       1-1  40.466586   \n",
       "\n",
       "   longitude  \n",
       "0 -79.996537  \n",
       "1 -79.973714  \n",
       "2 -79.915699  \n",
       "3 -80.033353  \n",
       "4 -79.977731  "
      ]
     },
     "execution_count": 8,
     "metadata": {},
     "output_type": "execute_result"
    }
   ],
   "source": [
    "bridges = pd.read_csv(\"Bridges_Dataset.csv\")\n",
    "bridges.head(5)"
   ]
  },
  {
   "cell_type": "markdown",
   "metadata": {},
   "source": [
    "In the table above, I have a partial representation of the bridges dataset."
   ]
  },
  {
   "cell_type": "code",
   "execution_count": 9,
   "metadata": {
    "collapsed": true,
    "jupyter": {
     "outputs_hidden": true
    }
   },
   "outputs": [
    {
     "name": "stdout",
     "output_type": "stream",
     "text": [
      "{'Central Business District': 12, 'Strip District': 1, 'Swisshelm Park': 2, 'West End': 4, 'Troy Hill': 7, 'Squirrel Hill South': 14, 'Brookline': 1, 'Overbrook': 6, 'Arlington': 2, 'Oakwood': 5, 'Bloomfield': 2, 'Greenfield': 2, 'Polish Hill': 3, 'Lower Lawrenceville': 2, 'Brighton Heights': 2, 'Hays': 6, 'Beechview': 1, 'Banksville': 1, 'Shadyside': 6, 'Central Oakland': 1, 'Sheraden': 3, 'East Allegheny': 4, 'Manchester': 1, 'Mount Washington': 4, 'Larimer': 3, 'East Liberty': 2, 'Summer Hill': 1, 'Bon Air': 3, 'Bluff': 2, 'South Oakland': 4, 'Hazelwood': 4, 'Point Breeze': 1, 'Squirrel Hill North': 2, nan: 4, 'Allentown': 1, 'South Side Flats': 5, 'Spring Hill-City View': 1, 'Allegheny Center': 3, 'Lincoln-Lemington-Belmar': 2, 'Perry South': 2, 'Northview Heights': 1, 'South Side Slopes': 5, 'Allegheny West': 2, 'Homewood South': 1, 'Highland Park': 2, 'California-Kirkbride': 1, 'Marshall-Shadeland': 2, 'South Shore': 1, 'Esplen': 1, 'Elliott': 1, 'Regent Square': 1, 'Windgap': 2, 'North Shore': 1}\n"
     ]
    }
   ],
   "source": [
    "bridge_dict = dict()\n",
    "# Creating dictionary of the neighborhoods and their number of bridges\n",
    "for column in bridges:\n",
    "    looping = bridges['neighborhood'].values\n",
    "\n",
    "for value in looping: \n",
    "    if value not in bridge_dict:\n",
    "            bridge_dict[value] = 1\n",
    "    else:\n",
    "        bridge_dict[value] = bridge_dict[value] + 1 \n",
    "\n",
    "print(bridge_dict)"
   ]
  },
  {
   "cell_type": "markdown",
   "metadata": {},
   "source": [
    "In the above dictionary, I have each neighborhood listed along with how many bridges is connected to it."
   ]
  },
  {
   "cell_type": "code",
   "execution_count": 10,
   "metadata": {
    "collapsed": true,
    "jupyter": {
     "outputs_hidden": true
    }
   },
   "outputs": [
    {
     "name": "stdout",
     "output_type": "stream",
     "text": [
      "Squirrel Hill South          14\n",
      "Central Business District    12\n",
      "Troy Hill                     7\n",
      "Overbrook                     6\n",
      "Hays                          6\n",
      "Shadyside                     6\n",
      "Oakwood                       5\n",
      "South Side Flats              5\n",
      "South Side Slopes             5\n",
      "NaN                           4\n",
      "West End                      4\n",
      "Hazelwood                     4\n",
      "South Oakland                 4\n",
      "Mount Washington              4\n",
      "East Allegheny                4\n",
      "Bon Air                       3\n",
      "Larimer                       3\n",
      "Allegheny Center              3\n",
      "Sheraden                      3\n",
      "Polish Hill                   3\n",
      "Bloomfield                    2\n",
      "Greenfield                    2\n",
      "Perry South                   2\n",
      "Lincoln-Lemington-Belmar      2\n",
      "Swisshelm Park                2\n",
      "Windgap                       2\n",
      "Highland Park                 2\n",
      "Arlington                     2\n",
      "Squirrel Hill North           2\n",
      "Allegheny West                2\n",
      "Bluff                         2\n",
      "Marshall-Shadeland            2\n",
      "East Liberty                  2\n",
      "Lower Lawrenceville           2\n",
      "Brighton Heights              2\n",
      "Elliott                       1\n",
      "California-Kirkbride          1\n",
      "Homewood South                1\n",
      "South Shore                   1\n",
      "Regent Square                 1\n",
      "Esplen                        1\n",
      "Summer Hill                   1\n",
      "Northview Heights             1\n",
      "Spring Hill-City View         1\n",
      "Allentown                     1\n",
      "Point Breeze                  1\n",
      "Strip District                1\n",
      "Manchester                    1\n",
      "Central Oakland               1\n",
      "Banksville                    1\n",
      "Beechview                     1\n",
      "Brookline                     1\n",
      "North Shore                   1\n",
      "dtype: int64\n"
     ]
    }
   ],
   "source": [
    "brid = pd.Series(bridge_dict).sort_values(ascending=False)\n",
    "print(brid)"
   ]
  },
  {
   "cell_type": "markdown",
   "metadata": {},
   "source": [
    "After creating the dictionary for Bridges, I then created a series and sorted it in ascending order in order to determine which neighborhoods do not need to be included in the graph.  "
   ]
  },
  {
   "cell_type": "code",
   "execution_count": 11,
   "metadata": {
    "collapsed": true,
    "jupyter": {
     "outputs_hidden": true
    }
   },
   "outputs": [
    {
     "name": "stdout",
     "output_type": "stream",
     "text": [
      "Squirrel Hill South          14\n",
      "Central Business District    12\n",
      "Troy Hill                     7\n",
      "Overbrook                     6\n",
      "Hays                          6\n",
      "Shadyside                     6\n",
      "Oakwood                       5\n",
      "South Side Flats              5\n",
      "South Side Slopes             5\n",
      "dtype: int64\n"
     ]
    }
   ],
   "source": [
    "top = brid.head(9)\n",
    "print(top)"
   ]
  },
  {
   "cell_type": "markdown",
   "metadata": {},
   "source": [
    "Using the series created previously, I truncated the data to only include the top 9 neighborhoods with the most amount of bridges connected to them."
   ]
  },
  {
   "cell_type": "code",
   "execution_count": 12,
   "metadata": {
    "collapsed": true,
    "jupyter": {
     "outputs_hidden": true
    }
   },
   "outputs": [
    {
     "data": {
      "text/plain": [
       "Text(0, 0.5, 'Number of Bridges')"
      ]
     },
     "execution_count": 12,
     "metadata": {},
     "output_type": "execute_result"
    },
    {
     "data": {
      "image/png": "iVBORw0KGgoAAAANSUhEUgAAAY8AAAGBCAYAAACekD2XAAAABHNCSVQICAgIfAhkiAAAAAlwSFlzAAALEgAACxIB0t1+/AAAADh0RVh0U29mdHdhcmUAbWF0cGxvdGxpYiB2ZXJzaW9uMy4yLjIsIGh0dHA6Ly9tYXRwbG90bGliLm9yZy+WH4yJAAAgAElEQVR4nOydedzlY/nH358xdmNfwxhkSXaTpZAlW9akJD9LRCERKpQlUlSkrCmiQkSWQtmXEIbsS5aGrGOQsQ2Gz++P6z7mzOM8zzxn5nuWZ+Z6v17n9Zxzf+/zva/ne77f+7rv67ru65ZtkiRJkqQZBnVagCRJkmTgkcojSZIkaZpUHkmSJEnTpPJIkiRJmiaVR5IkSdI0qTySJEmSpknlMYUhaaSkkU3Uv15SxmsPECTtLMmSdp7M81jS9U3U79h9ImmdIu/hnWi/GZp9/gYyqTw6hKRh5YGof70v6QVJ/5T0NUnTdlrObqSuM6l/jZX0qKRfSpq3AzIdXifLVr3U+Ws5Pqy90iVJ9QzutAAJjwLnlPeDgPmBzYFTgQ2Bzzd5vvWrE63ruQO4vLyfi7heewNbSlrF9ugOyXWUpL/Yfq8F574I+CfwXAvOnST9JpVH5/m37cPrCyTNDtwHbC1pMdtP9Pdkth+vWL5u5vb6aydpMPA3QoHuDRzWAZkeB5YBdgR+W/XJbb8KvFr1eZOkWdJs1YXY/h9we/k4d/2xmq1a0sKS/lDMXO9LWrEcb2hzlbSipL9Lel3SK5IukDS0NxkkLS7pQkmvShoj6UpJK0g6s5HpRdIgSbtJuq208bqkWyRt3eDcs0s6StLDkt4obfxb0m8kzdX0BSvYHgecVj4Or2tveknflnSPpDdLe1dL+nQD2a4v/98Mkn4k6T+S3pW0bz/F+BkwBjhc0vT9lV3S50vbr0p6S9K/JO3eoF5Dn4ekaSUdWuQdK+khSXtMzF8gaT5JZ0l6sbT7T0nr9CHnjJKOlfR0aeceSTv0UndeSSdKelLSO5KeK20t2qDuyPKaQ9LJ5fzv9TQBShou6SpJr5VrdVFvZkBJn5N0U6n7hqQRkr7aS91Zyj35qKS3y/W4UNIKvdRfV9LN5X4aJel0SXP2dt2mRHLm0YVImg34BPAG8EiDKnMBtwAvAucCMwNv9nG+5YGbgBmBPwEjgU8D/wBeaVB/YeBmYD7gEuBBYCXgRuDuBvVV5PhiqXtWObQpcKGkfW3/oq7ulUTnfiVwKTAtsCjwJeB44KXe/pcmcGlvhtLOWoSZ6zTiem0JXCPpi7b/3OD7FwHLEjOZMcDT/Wx3NKFAjgD2Ao6b2Bck/RQ4AHgSOI/4LTcAfiXpY7a/1Y92zwK2I+6XXwKzAUcTv3tvzE7cA68CfwDmBbYF/q4w+93f4Dt/Iq7L+cB0xG/+O0lz2/553f80L3AbMAy4ijDNLgXsAGwqaU3bD/c49/TAtcBMwMWl7GXGD3I/AXwHuA74FXFPbgUsJ2lZ22Pr2v8OcAzxjJwFvEOYgH8taSXbe9XVnRG4HlilyHwBsHD53zaRtLHtG+vqbwhcBrxL3Pejgc8CV5dr8k6D6zblYTtfHXgRD5WBfwOHl9cRhK/jGaLD+nKD77m8fg0ManB8JDCyR9mN5Ttb9yg/q3a+HuVnl/K9e5QfWtf+sLryr5Wyk4Bp6spnJh7Gt4GPlLLlS92fN5B9ZmDGfly7dco5TuxRPg3RURk4rJT9uHw+sEfdecq1erG+TaITMXAnMHsTv+fh5XvbALMAL5Rzz1pX568Nrt1GpexiYIa68mlLmYFP1JXvXMp2rivboJTdCkxXV74UoYgMHN7LfXRS/X0E7FrKT+1Rv3ZdHgBmqSv/SPlfx9Z+41J+Zql/aI/z7FLKr2tw35rwYc3Q41jt9zawbY9jvyvlX6or+ygwjniO5q8rHwLcX+p/usFvd3qPc69fyh+rXaNyj/2nnL/+dxkMXFPqT/D8Tamvjgswtb4Yrzx6e/0eWKzB91we1Ll6Oe/I+psXWKR8Z0SDukPLQ+C6sunL+Z8GBveoPxMxK+jZAd4L/K++46o7tlmp/43yuaY8fjQZ167WmdzOeMX7S+Dh2sNLzM4GETOrB3o5zzdK/c3qyq7vWdZPmWod0DY9zn1kXZ1GyuNS4H1gvgbnXLbU/1ld2c58WHmcWco2aXCOU+hdebxOnSIo5YOJEfWdPcpr16XRgObgcuxbdffQW4RS6akIRPjzDAztcd8aWLaP3/uGPo4dW1d2WL08PepvU46dUVf2H2KAM3+D+rXfbO3yee3y+YIGdT9Zu/8m9d4eSK80W3Wey2xvVvtQpvvrE53hxpJW84cd5iNt99e0s3z5+4+eB2w/JekpwmRUY2ni4R/h8CHU139T0t3AenXyzkR0cv8FDg6r1ATMU3deCLPW/cCBCj/NX4mZ0QMuT2ATfKK8IEwFTwK/AI6y/ZKkjxGmmad6sfkvUSfbX3scG9GkLD35FbAf8C1JJ9p+oZd6qwGvAXs0uHa1UO2lex7oQc0uf2uDY7cAX+/le/+2/Xp9ge1xkl4grlsjGpnBavdWTY6lgBmAq1xnSirnt6QbiHtmBeCpusNj3dhUVuPOBmU1c2K9vDU5bmhQ//r6OpJmJQZy99l+vpf6m5b6N9ad+0PPExEFN65B+RRJKo8uw/Yo4NzSKf8GOAjYrUe13jqiRsxW/r7Yy/EXmFB5DJlI/VE9Ps9BjCaH0nd008zwQee0LvADwga9STn+jKSfuvhG+slJtr/Rx/GaA3N5xivRXmXrQTPX+EPYflfSIYQv4RBiJtKIOYnncKLXrg+GAO86Ai160vP3qmdML+XjCPNMIxqdr3atavfarD3Ke/J8j3p9nbueRvLWOut6eXtt3/ZoSePq6jQra6/Pk+33JXUqPLztZLRV93Jb+fuJBseaGaHXwjrn6eX4fD0+vzaR+j0X4NUe6Ntsq4/XV2pfsD3a4bBcAFgO+BYxczhe0leojpps501Eth/0/OIkzIIacQ5h0ttd0mJ9yPjCRORbdyLtvAZMqwjx7knVCyYbna92D9XutTE9ynur31MZVHHN+2xfEc03uK5Os7L2+jxJGkSP6MgpmVQe3csc5e/k/kb3lr9r9jygCNXtGa77MGH/Ha5YN1Fff0Zgxfoy26+V7ywjaQhN4OB+28cDtZDeLZo5x0R4iOhYh0vqbSTdMooCOogwPx3ZS7Xbgfl6CzftJ/eUv6s3OLbGZJy3EWs1KKvdWzU5HiH8Zqv2Eq68do/6VVOLCFy7wbFP19exPYbweSwpqZECmaA+42X+0PNEXP+pxpqTyqMLKSOYb5aPN/ZVd2LYfpKwU6+iD6+5OJIe5gnbbxNhqgsSUVT17Md4U1A9JxCmk1NLaOwESPp48eXU0rIs0uActQd3bINjk0Tx2ZwKLA78uJECkbRaMRG2BNuXE9d/O2LxYE9OKH9PbzRzKNdr2ESaObf8PUTSdHXfXQLYqVmZJ8L3JM1S18YCwD7EgON8+OAeOo/4Tfev/7KknQgT4vW26/0dVXIO8B5wgOpS1RS5Dy8ff1dX/3eEn28CBV/Wu2xGLPy8uRTfTDj3t5L0ibq6g3t+f0pnqtGSXcySPZy58wDrAh8jnNBHVdDG3oSD73xJ9es8FiJmJj39AQcSTvsTJH2GGMGvCHyK6AjXIiKEapxCRJpsD6wl6VrCVlwzS61EjIBHlfNcKOm2ct4XiNnPVoTp6gSq5VBiTcm3gS0k3USsHViIiOtfqsjZ6zqZCjiQ6HQ+tDjO9uWSfkzMUB6V9HfCCTwPcQ+sDnyZ+M0aYvvvks4n1iXcI+kvhI3+S8SaiE2Z8PeaHP4D3C/pQmJNw7ZF1v1sP1NX7zvEPXaUpLWBu4hr/TkiYm+PiuT5ELYfk3Qwsc7j3nLPv1vaHgacbLvemX4MoSR2k7Qs4WhfiLieY4FdbL9fzv2epK8TARY3SKpf5/EuU1PamE6He02tL3oP1R1LmIGOBeZu8D0To7bezjuSBqGCRAd+JbHw8BViIdRQSghmg/ofJWYgY8rrSiLS5C9FhjkafGd7orN6hRiJPgX8negoZi51FiIWr/2TUCZjiQ7pbGD5fl67dWiwzqOP+oOJBXv/LP/LW8ATxDqKHakLSe7tevSjjcOpC9VtcLy2ZmOCUN2645sQC89GE0r0GaIT27/+PqBBqG4pn67I8GS59g8DexJBCR8KW+3rPmp0DzE+VHfGcm8+Xdq5D9ixl/PMC5xY7oN3iAHF74BF+3vf9vi9D+/jOTqzwbGtiUHT68Tg4E5gt17aGAL8iFjT8Q6h4P4MrNBL/fWISLa3COf5GcSsvNf/Y0p7qVyIJJkoxezzODCT7bZnrk2aR9KRwPeBTR0mtCSphPR5JA0ptuyefJtYdHhJm8VJJoKk+RuULUWYLMcwfn1DklRC+jyS3nhI0u2EXwJgVcL+/gLjnY5J9/B9SRsQZprRhH9lC8IRvJvtVvp0kqmQVB5Jb/yKcLSuRqQleR44HTjCEzpGk+7gCsLBvjkR5v0G4aQ/zvZlnRQsmTJJn0eSJEnSNOnzSJIkSZpmijJbzT333B42bFinxUiSJBkw3HnnnaNt95aOqFemKOUxbNgwRoyY3GSoSZIkUw+SnpyU76XZKkmSJGmaVB5JkiRJ06TySJIkSZomlUeSJEnSNKk8kiRJkqZJ5ZEkSZI0TSqPJEmSpGlSeSRJkiRNM0UtEuwPww5sTY64kUdv2pLzJkmSdCM580iSJEmaJpVHkiRJ0jSpPJIkSZKmSeWRJEmSNE0qjyRJkqRpUnkkSZIkTZPKI0mSJGmaVB5JkiRJ06TySJIkSZomlUeSJEnSNKk8kiRJkqZJ5ZEkSZI0TSqPJEmSpGlSeSRJkiRNk8ojSZIkaZpUHkmSJEnTpPJIkiRJmiaVR5IkSdI0LVMeks6QNErS/XVlP5X0sKR7JV0kafZevjtS0n2S7pY0olUyJkmSJJNGK2ceZwIb9yi7CljW9vLAv4GD+vj+urZXtD28RfIlSZIkk0jLlIftG4GXe5RdaXtc+fhPYKFWtZ8kSZK0jk76PHYBrujlmIErJd0pafe+TiJpd0kjJI148cUXKxcySZIk+TAdUR6SvgeMA87upcqatlcGNgH2krR2b+eyfZrt4baHzzPPPC2QNkmSJOlJ25WHpJ2BzYDtbbtRHdvPlL+jgIuAVdsmYJIkSTJR2qo8JG0MfAfYwvabvdSZWdKQ2ntgQ+D+RnWTJEmSztDKUN1zgVuBpSQ9LWlX4ERgCHBVCcM9tdT9iKTLy1fnA/4h6R7gduAy239rlZxJkiRJ8wxu1Yltb9eg+PRe6j4LfLa8fwJYoVVyJUmSJJNPrjBPkiRJmiaVR5IkSdI0LTNbJf1n2IGXteS8I4/etCXnTZIkyZlHkiRJ0jSpPJIkSZKmSeWRJEmSNE0qjyRJkqRpUnkkSZIkTZPKI0mSJGmaVB5JkiRJ06TySJIkSZomlUeSJEnSNKk8kiRJkqZJ5ZEkSZI0TSqPJEmSpGlSeSRJkiRNk8ojSZIkaZpUHkmSJEnTpPJIkiRJmiaVR5IkSdI0qTySJEmSpknlkSRJkjRNKo8kSZKkaVJ5JEmSJE2TyiNJkiRpmokqD0kzSxpU3i8paQtJ07ZetCRJkqRb6c/M40ZgBkkLAlcCOwBntlKoJEmSpLvpj/KQ7TeBrYGTbX8B+HhrxUqSJEm6mX4pD0lrANsDl5WyafpzcklnSBol6f66sjklXSXp0fJ3jl6+u1Op86iknfrTXpIkSdIe+qM89gUOAi6y/YCkxYDr+nn+M4GNe5QdCFxjewngmvJ5AiTNCRwGrAasChzWm5JJkiRJ2s9ElYftG2xvAZxQPj9h+5v9ObntG4GXexRvCZxV3p8FbNXgqxsBV9l+2fYrwFV8WAklSZIkHaI/0VZrSHoQeLh8XkHSyZPR5ny2nyvvnwfma1BnQeC/dZ+fLmWN5Ntd0ghJI1588cXJECtJkiTpL/0xWx1PzAReArB9D7B2FY3bNuDJPMdptofbHj7PPPNUIVaSJEkyEfq1SND2f3sUvTcZbb4gaQGA8ndUgzrPAAvXfV6olCVJkiRdQH+Ux38lfRKwpGklHQA8NBltXgrUoqd2Ai5pUOfvwIaS5iiO8g1LWZIkSdIF9Ed5fB3Yi/A5PAOsWD5PFEnnArcCS0l6WtKuwNHABpIeBT5TPiNpuKTfANh+GTgSuKO8jihlSZIkSRcweGIVbI8m1ng0je3tejm0foO6I4Cv1n0+AzhjUtpNkiRJWstElYekXzYofhUYYbuRySlJkiSZwumP2WoGwlT1aHktTziwd5V0fAtlS5IkSbqUic48CGXxKdvvAUg6BbgJWBO4r4WyJUmSJF1Kf2YecwCz1H2eGZizKJO3WyJVkiRJ0tX0Z+bxE+BuSdcDIhYI/kjSzMDVLZQtSZIk6VL6E211uqTLiQSFAAfbfra8/3bLJEuSJEm6ll6Vh6SVexTVVpnPL2l+23e1TqwkSZKkm+lr5nFs+TsDMBy4hzBbLQ+MANZorWhJkiRJt9Krw9z2urbXBZ4DVi7JB1cBViLzTCVJkkzV9CfaainbH4Tk2r4f+FjrREqSJEm6nf5EW91bck79oXzeHri3dSIlSZIk3U5/lMdXgD2AfcrnG4FTWiZRkiRJ0vX0J1R3LPDz8kqSJEmSPkN1z7f9RUn30WC3P9vLt1SyJEmSpGvpa+ZRM1Nt1g5BkiRJkoFDr8rD9nOSpgHOLCG7SZIkSQJMJFS3JD98X9JsbZInSZIkGQD0J9rqdeA+SVcBb9QKbX+zZVIlSZIkXU1/lMefyytJkiRJgP6F6p7VDkGSJEmSgUOvPg9JS0g6U9JxkhaSdIWk1yXdI2l4O4VMkiRJuou+HOa/BW4BngVuA84A5gYOAE5qvWhJkiRJt9KX8pjF9mm2fwa8ZftPtsfavgqYvk3yJUmSJF1IX8rj/br3Y/o4liRJkkxl9OUwX1rSvcQGUIuX95TPi7VcsiRJkqRr6Ut55J4dSZIkSUP6Sk/yZDsFSZIkSQYO/dlJMEmSJEkmoO3KQ9JSku6ue42RtG+POutIerWuzqHtljNJkiTpnb7287jG9vqSjrH93aoatP0IsGJpYxrgGeCiBlVvsp3p4JMkSbqQvhzmC0j6JLCFpD8SUVYfYPuuCtpfH3g8/StJkiQDi76Ux6HAIcBCwHE9jhlYr4L2vwSc28uxNSTdQ6xwP8D2A40qSdod2B1g6NChFYiUJEmSTIy+oq0uAC6QdIjtI6tuWNJ0wBbAQQ0O3wUsYvt1SZ8FLgaW6EXO04DTAIYPH/6h7XKTJEmS6pmow9z2kZK2kPSz8qrKD7EJcJftFxq0Ocb26+X95cC0kuauqN0kSZJkMpmo8pD0Y2I/8wfLax9JP6qg7e3oxWQlaX5JKu9XLXK+VEGbSZIkSQX0ZzOoTYEVbb8PIOks4F/AwZPaqKSZgQ2Ar9WVfR3A9qnANsAeksYBbwFfsp0mqSRJki6hP8oDYHbg5fJ+svczt/0GMFePslPr3p8InDi57SRJkiStoT/K48fAvyRdR4Trrg0c2FKpkiRJkq6mP9vQnivpeuATpei7tp9vqVRJkiRJV9Mvs5Xt54BLWyxL0iUMO/Cylpx35NGbtuS8SZK0n0yMmCRJkjRNKo8kSZKkafpUHpKmkfRwu4RJkiRJBgZ9Kg/b7wGPSMqkUUmSJMkH9MdhPgfwgKTbgTdqhba3aJlUSZIkSVfTH+VxSMulSJIkSQYU/VnncYOkRYAlbF8taSZgmtaLliRJknQr/UmMuBtwAfCrUrQgkSI9SZIkmUrpT6juXsCngDEAth8F5m2lUEmSJEl30x/l8bbtd2ofJA0mdhJMkiRJplL6ozxukHQwMKOkDYA/AX9prVhJkiRJN9Mf5XEg8CJwH7H/xuXA91spVJIkSdLd9Cfa6v2yAdRthLnqkdyYKUmSZOpmospD0qbAqcDjxH4ei0r6mu0rWi1cktToxky/KVMyNdOfRYLHAuvafgxA0uLAZUAqjyRJkqmU/vg8XqspjsITwGstkidJkiQZAPQ685C0dXk7QtLlwPmEz+MLwB1tkC1JkiTpUvoyW21e9/4F4NPl/YvAjC2TKEmSJOl6elUetr/STkGSJEmSgUN/oq0WBfYGhtXXz5TsSZIkUy/9iba6GDidWFX+fmvFSZIkSQYC/VEeY23/suWSJEmSJAOG/iiPX0g6DLgSeLtWaPuulkmVJEmSdDX9UR7LATsA6zHebOXyOUmSJJkK6Y/y+AKwWH1a9iRJkmTqpj8rzO8HZq+6YUkjJd0n6W5JIxocl6RfSnpM0r2SVq5ahiRJkmTS6M/MY3bgYUl3MKHPo4pQ3XVtj+7l2CbAEuW1GnBK+ZskSZJ0mP4oj8NaLkVjtgR+V9K//1PS7JIWsP1ch+RJkiRJCv3Zz+OGFrVt4EpJBn5l+7QexxcE/lv3+elSNoHykLQ7sDvA0KFDWyRqkiSTSrelie82eaA7ZZoY/Vlh/hrj9yyfDpgWeMP2rJPZ9pq2n5E0L3CVpIdt39jsSYrSOQ1g+PDhuUlVkiRJG+jPzGNI7b0kEeak1Se3YdvPlL+jJF0ErArUK49ngIXrPi9UypIkSZIO059oqw9wcDGw0eQ0KmlmSUNq74ENiaiuei4FdixRV6sDr6a/I0mSpDvoj9lq67qPg4DhwNjJbHc+4KKYyDAYOMf23yR9HcD2qcDlwGeBx4A3gczymyRJ0iX0J9qqfl+PccBIwnQ1ydh+AlihQfmpde8N7DU57SRJkiStoT8+jxzxJ0mSJBPQ1za0h/bxPds+sgXyJEmSJAOAvmYebzQomxnYFZgLSOWRJEkyldLXNrTH1t6XyKh9CKf1H4Fje/tekiRJMuXTp89D0pzAfsD2wFnAyrZfaYdgSZIkSffSl8/jp8DWxOrt5Wy/3japkiRJkq6mr0WC+wMfAb4PPCtpTHm9JmlMe8RLkiRJupG+fB5NrT5PkiRJph5SQSRJkiRNk8ojSZIkaZpUHkmSJEnTpPJIkiRJmiaVR5IkSdI0qTySJEmSpknlkSRJkjRNKo8kSZKkaVJ5JEmSJE2TyiNJkiRpmlQeSZIkSdOk8kiSJEmaJpVHkiRJ0jSpPJIkSZKmSeWRJEmSNE0qjyRJkqRpUnkkSZIkTZPKI0mSJGmaVB5JkiRJ06TySJIkSZqm7cpD0sKSrpP0oKQHJO3ToM46kl6VdHd5HdpuOZMkSZLeGdyBNscB+9u+S9IQ4E5JV9l+sEe9m2xv1gH5kiRJkonQ9pmH7eds31XevwY8BCzYbjmSJEmSSaejPg9Jw4CVgNsaHF5D0j2SrpD08T7OsbukEZJGvPjiiy2SNEmSJKmnY8pD0izAhcC+tsf0OHwXsIjtFYATgIt7O4/t02wPtz18nnnmaZ3ASZIkyQd0RHlImpZQHGfb/nPP47bH2H69vL8cmFbS3G0WM0mSJOmFTkRbCTgdeMj2cb3Umb/UQ9KqhJwvtU/KJEmSpC86EW31KWAH4D5Jd5eyg4GhALZPBbYB9pA0DngL+JJtd0DWJEmSpAFtVx62/wFoInVOBE5sj0RJkiRJs+QK8yRJkqRpUnkkSZIkTZPKI0mSJGmaVB5JkiRJ06TySJIkSZomlUeSJEnSNKk8kiRJkqZJ5ZEkSZI0TSqPJEmSpGlSeSRJkiRNk8ojSZIkaZpUHkmSJEnTpPJIkiRJmiaVR5IkSdI0qTySJEmSpknlkSRJkjRNKo8kSZKkaVJ5JEmSJE2TyiNJkiRpmlQeSZIkSdOk8kiSJEmaJpVHkiRJ0jSpPJIkSZKmSeWRJEmSNE0qjyRJkqRpUnkkSZIkTZPKI0mSJGmaVB5JkiRJ03REeUjaWNIjkh6TdGCD49NLOq8cv03SsPZLmSRJkvRG25WHpGmAk4BNgGWA7SQt06ParsArtj8K/Bw4pr1SJkmSJH3RiZnHqsBjtp+w/Q7wR2DLHnW2BM4q7y8A1pekNsqYJEmS9IFst7dBaRtgY9tfLZ93AFaz/Y26OveXOk+Xz4+XOqMbnG93YPfycSngkQrFnRv4UJsdpttk6jZ5IGXqLynTxOk2eaB6mRaxPU+zXxpcoQAdwfZpwGmtOLekEbaHt+Lck0q3ydRt8kDK1F9SponTbfJA98jUCbPVM8DCdZ8XKmUN60gaDMwGvNQW6ZIkSZKJ0gnlcQewhKRFJU0HfAm4tEedS4GdyvttgGvdbvtakiRJ0ittN1vZHifpG8DfgWmAM2w/IOkIYITtS4HTgd9Legx4mVAwnaAl5rDJpNtk6jZ5IGXqLynTxOk2eaBLZGq7wzxJkiQZ+OQK8yRJkqRpUnkkSZIkTZPKI0lajKQlOi1DklTNFKU8JE0naUFJi0uaoQ3tqfydptVtdQOStpa0UAfbr13vAbE+qUQU3gOc1s57pN3PQX9p9+8naZCk+cp1aHoRXIVydOXvMbkMiIewCXYmIrPeAv4DfKPP2pOBpKWAdSWtBQyW9FfgbNvvt6rNTiFJJVR6aeL6frEDMtSu96eB6ST9HfhNN15vSTMT+di2Aba0fVubRdiZNj0H/aVDv99awD7EOrHXJH3e9nstbK83dqbLfo8qGPAzj9ooRtLSwPeAI2xvCgyXtH6L2tyYuAGWAf4JnANsBfy4Fe11kjrFAdEhLi9pvTbLsAnjr/ctwK+BjYCj2inHxCgj3d2JDmJ+4LZ2KY5OPAdNyNa236/uOkwH/IQI/18feAE4vOr2+iFH1/0elWF7wL6A5YFFy/sZgLuBDcrnHYnFhVW3uTqhMPYF5qkrnxG4i8gT0/FrU8H/qR6f1yI6gOuAW9ooxyeB2xpc78FEJz2009eqyDMf8D/gDGCGUvYX4Mvl/dLAZ1vUdl/PwS7AdR28Lm37/YAFgVWAQeXzOcCPy/uhRN67+dvwP7e9X+rEa6DPPL4BbFrezwhcAyxZbKvnA8e1wMa4FnCV7eNtv6hgOttvAVfQAZNOK3C50yUtIembRAr9GYEfAU9J+labRPk08Ne66z1I0sy2xwH/IjrljmP7BWAV27vYHluKDwEOlLQF8AVgZ0kfb0HzjZ6Dj0kabPsM4DuSPtc/36gAACAASURBVNaCdvvDxH6/KuXaENjX9vvFx3QdMJOkWW0/BewPtGNhWyf6pbYzIJWHpJrc5wI7ANh+BVgRmLt0fO8TnfzYxmeZpHYFrASMKJ9ncPBOqfJ34JKq2uskkuaW9H9EmpiZgFeAJYHZgQOAtet+h1bJICKF/93l8xDb79t+Q9KigIBbWylDfynmvcfrPs8CjCUyJOxMdFpH2n6gwjZ7ew6GA9M5sjksR+yJ85t2B3ZM5PdbnOp/v3OA5SQt7vBtLAgsC7xZZLm2KPmW0Kl+qVMMSOVRRhayfR3wkKSzJH0VGAXcXqq9a/ttmOBHndx2DdwIfL0Uvd2jyl3A40wZrEdMv18C5iVGiEsA2wJDbH/OLXZWl+v9N2Cv8vk1AElfJhT1LLZf64boq9pMDUDSSsB2xAj0TuBo2z+0fV85Xkkn3uM5eFjSOZK+UtocKelI4DLgZmBNt9lZ3MfvtyNwPfCg7TEVXo+3gROB0yV9jRjoXG17XBnkvVnab0m/16l+qVMM2PQkkgaVH2se4MvAIsCzwLXA5oTt8yrbJ7Sg7auBi4HTbb8l6SPAzMDrwGjb79bkq7rtVlNzkJeR88FE1uMXCMX4MjAHsIPtTXs401sp0xXAq8CTwGeBJwj/wjjbu7a6/WYo5oijiI7rHOCGMgNYnPB/HFlxe/XPwbqEU/or5fCjwL3EPfmjKtttUsYrgNeA+4hn87+E+WYk8Kjtl6t8XiR9nQhYmJ6wBCxB7E56EXC+7eda9Xz2+D22A4YRWcKvBbYgLBeX2f511W23mwGrPOBDkUCUKIY9gTHE1PFg4CLbv6j45lwWWIGYZSxBRI7MRTwcsv3tKtrpFHUKZDNixnED8FDdyPGrwO9tv90OJSlpAcJkthpwD9ER7Qj8yfY1rWy7Gequ2xrAv4kBzY5EgMVfiVHxnbZPkDRNVTOBunbnJ7JW3w4ca/uWcvwGotM8qYr2JkG+BYDFiR1CVyD8Zg8RnelGtrdpUbsLAUcAQ4gZ2GLA8ra3akV7de327JfWI2ZfY4idU/cDLq+6X2o7E/OoD5QXMA8R1fHFurJPAicA05bPqrjNhYkMwN8BHill1zM+sqLS9jp0Xeese/8J4iH8O9EBzNTu/7P8pncBezQ4NqjT16tOltmAq4DvA6cCxxERP3cC07ew3Z3q3k8LzEoore274JrsCBxbnpmrStk/gHVa0NYgIvLtpz3KbwaWbOP/PBcxeNi2rmwtYjAxuNO/yeS8BrTNrQfDgPdtnw8fjHa+DHyGcFji8stVyHpEh/UT4EZJOwN/IhxkrWiv7dh+GUCRMv8CwsG5M7EVZqUmmIkhaVoiiuVg4EpJy0raW9IJRdZuGsF9HJjL4ev4OqH0dgUucczYKnVe1+znts8qn2ci7sOjgAWI2WPHkDQj8FXgnw5T492SvgtcScwkq2YG4KPAD0r7QxRbXj9OmM3axVBgrO3zihxzEffwbQ5z5oDNTtFxR2NV2L5D0muSDiCiXOYgbp6fE3uDTGP7vYrt9LMzPujg+8TM5zHgmxWdvytQrJheHNjE9oOl7DTgJ5Jms/1qm0TZCziIWLn9BLFOYE7g8uJreLtbFLbtWySNLvfjg+W1DnB0qTIE+F9VZov6cxRzzV5EpNMNwGEOv8JSwMuOkNnKzGb9lO8tSTcDq0u6lHhWzieUx3FlYDAMWML25RW096akfxBRZjXT5ibAWUWWBRy+j5ZeB9v/kvSupB8S9+w8RL9UM23PArw6EM1XA9rnUaPO5vtJYA/CTn89YbJ6nnBczWj7lKrbJWzMR9m+SNJGhCnnIkkrAg84nOdtcSy3CkkfBS62vWxd2aHAW7Z/2mZZtgNGE1E0tbUoKxEP5ustGCBMioy1gcpCwE+B5Yjw7p/YflDSb4use7eo/SWIWeG3gTcIx/FbwNrAV21v0Yp2+ynbD4tcbwL72z6jKP5NCB/I/MCOtl+sqL1DCEUt4GxicHcK8ZsMd6w3aQl198GShMluRiLk/RRiUem5REDFgBxsThHKAz5IgbAT8B5wmu0bFHmnNiMenpFELp3XK27384Qj7te2/1c6jAMJJba/7eM73ZlNDnWK+RRilH8TsAYRQ78j8RDY9ogOyPZN4jcfSYzsx9n+QTeM4uqu277Af2xfUspXIwYzh9v+X6vaLe+XB04inPdz2d5K0mXEvXpxJ+5LSdsQM7BvOqKSPkUsrF2E8Ked3qrfTpE6pmYqO8L2c61oZyIyzEIo9s0pvrBO36uTypSkPNYmwnOPLw/tpsQP9Ahwu+2be9Sv9MGRNAT4P8Ku/Qzh+/gMEeP/cDd0aJNCXejhrET+rqHAO8DPiNXdFwK/rHpW1w+5Pg3sTThctyIGCTcSo9b72ylLIxr93mWgcTjRcf2px7HKO3JJPyUU668IJfI8MUObxR2KvKpRTGhbEqvClwI+Vz8AqTgabRChNNYBDrZ9Zymflhj4jGtT1OAQIq/Xa0WOF0v59C5rPwYSU4zyqKc4y88CzgMurI3wJG1P3CznVHmzSJqNSE0yllhFfF0pP4rI3bPDAJ99fPAg9xjZ/pAwzZ3bAZm+B2D7KEVG46OJldUjbV/cbnkaIWk+IlrtofL5ROKefI6I1PsY8KbtMytutzbrOQJY1vbWkmYnQsmfAPZ0hSvdJ0G+uQkT0uNEYIGJ9SiLAk/Z3qvi9mYlBjn72n6gOKnnJAaXw2wfWmV7fcixEvBz2+uUz4OJdVRfIRZMntcOOapiinGY11McYfMA/yqmpI8TU8XFCAc6ZTQ9p0s00WS296qkg21fDx8sFFuLWANySaljRa6hltlYW0X9CLD8H7MRoaez2/6+pDmJBZLvtdHnMIRI9QCRtfQfxGLGtWsVukBhzw5cXJTs14kV+8PLsRuIlfsXtapx24dK+q6kvxHmxXuBfWw/Vl+v3bNi26MlHWr7tmIOPdr2k5KmBzaVNIvt16uafThWsb8IfF6SCaf1LuXvuZLmIBTXq65LMVM1Duf5XIqs3M8Ta5f+j/D//E2xTmcR4DHbL7VKjqqY4mYedU6qdQl7+GLARwjn1M9KRz8DEf9+riNdc5XtDyd8AosDLxIx9p8gHt5ZgD/YfqPKNtuBpA0Js+CvgU8RyuMgIqJnUWAc8G/bh7RJnnmIVbvftH1dMVM+DjwFrGf7r6Vep53n2xCzjPeJdR/T2/5XOTaYWGD6lO37qpS1zty4JjHq3sv2BZJ2IRTY28ATbkEGhiZknI14Lj/vSCxasw5sb/uzFbc1K3G/bkiYjS50LNYcTsyC/kpkQb7Z9rtVtl3ar/VLw4m0NcsSaUtOsn1Z8cfsC/wW+JtLKptuZoqbedRGKqVD+TIRbbKFx4eYHkGE1c4BbFxl24qV518jUmlcVW6KZYnZzsxEXqgB5/co/ItQGB8hlMe/CKXxBhEgMC+xAK4tOMJNa1Ez1xGrqlchMqd+otiRL+y0qdD2BY3KFeswTidGnctJ+obt2yscbb9f/v5D0lDH2pJjiSSX15a/B0i6tIz6V7R99+S22yRfAF6qUxzrE2tTTiifK/N7lNnHfYS56iDgnaJIlyKCbOavWQ5aQV2/NELSK0TqmuOBhSXtT8xChgBvDATFAVPgzAMm0PIzeXwytC8Qq1v/Q4xW76mvW2Hb/0eswIYISVyBCOf9IpGcblRVbbWbMlIcRKzYH9WLU3gwYb5q240laVVCoS1JRNbdB3yO2MXvFUkz1jqoTlE3E1gBeMf2Q5L+SITyDgW+ZrvSwUxpt+b/WJsIMDiM8Au9qUhQuD4xCzewXbsdt5Lmt/28YtOk3SlRkYQv4Nlivqo6uGUZYLfy8VYi+ee3bG9WTEez2X6kqvbq2q3dA4MdTvrPEdd/DJFAchXCR3ZI8Y885pISqBuZ4mYeMIGNfmy5GW4k/tf9aiPBMk280/adVdp8bf9BkS78ZKITO7DYOt8hFkENWOXhusWA9desroOapubTUSSLXLlmPmoVkhYhFmWOAv5s+6pSPh2wnqQ3Cf/Twa2UY2LU3V9bESbMPYk8XQu4rBGSNG/Vg4u6TncVIgNDbQa+ODG4eRn4HWFSq9xc0w/5npe0E7ESfCxwGqFEjivyHVux4pieMBuNBK6szbYkPS1pN2AD4rmtPHtC3WxwXLlvtydMinfa/jeRpeKTipX3axHpVf5ctRxVMUUqjxpFy78GnOmSVbTY7vcibJ9/IXJh1VIpV3WTbkSM7r5T/CvYPkLSFySNcYTudtqZO1n0ULaKIr+niGSppYV5Q9LNjj0NWiXHk5LOJHY3rM0ypydmf2sQncG/FOkxxnbqmtf93scBt5XOe0Ni8R6OFCatbPc3wMaStgbWJPxwdxIzn5kdmyV1io8Tius4YiZwEBGV9odahaoGeMV8twwxqq8pjvUIpT43sQbkarU+uGU0ETr8XduPl8HO1kTI+etEePUdLWx/spkizVY1eoyOVyF+nBWJG/RMYqe3l20fVHG7KwJ/tz1f+bwu4WdZg0gV0dZV2e2i2Ky3JBYQnkmM7u5vV4ddTGaLEKuVazsd3mB7l3a0PzHqzKk7Ap8nbO372R5ZjrdkQFFnLtmGUCL3EYsUrynHjydybl1Xddv9lG9OIjPD05KOJsx4exIz9RVdfSjzYoSv42ngS4QfbxrCfzeN7d2rbK9B+7X7YGMiQnAOwv8ziDAhvgY8bPu4Kq0iVTNFK496JJ1EJEv7Sc2eqVgPsgbwF1e8B0cxXb1LjOxWIh7akcTN+sfeHKkDEUUo9LaEnfpVYua1iiOHUK3jaulMq3RAmxMmiSeB3zoCFi4lourO7abZniL6591yjdomV5l53+UIl52NWOy5KLBLh2cfSDqQ2K/lN4QPa3UilPkEVxy6Wq7D3kTamJuIzvpZSXcS6YbaYi5S5D5bjQg1vxl4gFBkjwArdbOPdIo2W8EEs49DPD5D7GAi0+iniUyfyxKrfqvU8E8T229eD3yyru27CGUyRSBpYSJz6z3A2bavkfQbYuT/o6I4hhKr7luZiO81QoE96wn3h/gPsUFSV2U5tj2m7n07NtSqBYZc7/HbJq8MPGd7t1JnWrcgTLWf8s1AmKuuJfJbXWb7a8UP9FJdvaoU7fXEYPJBT7ju5XHCD9RS6v6PPxOpde6y/Xw5thSh1KZttRyTw5SUkr0hdU6qWuc9D5Ee+wBi4dbjwIrF7lllu+8Ca9vey3ULEW0/AbxVbM+11AkDFtv/BY4h4tNrZo9DgM0kLSjpGGLGtUmL5XiXMJXVHsBFJG1OjKprafrVShm6mWImmY2IqkKRC+4E4H1JQ4uTdp9i0umEfGOJbAyfc2xx8FzxZf1C0nklwAUq6rOKAv1rTXFI2lPSKGLUf3ufX66mfZe/T9i+vAQOSJGF4A4ipdIzrZZjcpjiZx71KHLZ7EmYqm4FtirT9+0IB+K1VbbXY8T0acJBdiWxOcyNkm6z/Uw32zX7g+1be3x+rgQq/Ae4hugUnm6DHOdL2kuR/G8UsabmHMcCvNrufi91k/mqzXwJ+Jak64g1BUOJ0e3PCSftHURWhCc6IZxLNJ+k5Yj1OpcRW+lOS6RWv6zKDrXMiocTo/9XiW2Cry4ytPUekfQNIsLrZmCZ2vPSzffqVOPzqFFG/E96fHK0xRmfMnuQ7adU/dqPjYDfE6uz1wT2IRTYMrb3HujKox5FJuOTgOmAr9QUS/EB7eIWr0CXNIwwU70F3E+spD6V6Di/7w7u5d0NKMJRXyLSgz9IbAc7VxnErEgMKMfZvrvq56AJGfcnnNhHenxeulOJbQH+VnFb6wCr2T6mfBbRL7b1eZT0bcKEdln5PA0RWt21HfRUozx6avDi99iFWLw3K2Ha+AywuSveg6OYBOawfWC5WX9JjHZecJuz0bYSSX8gNmr6tkvaizLi3832LpI+bbttO9pJOpiwo19O5BjbAjjR9j/aJUO3Uxf5My+xruBpIn3JGlU/B03I9AvgaZeoREnfIlJ3rFvMvq1qd4Lw3GLiXp7InvC47crNWT0HjkV5DapX2or9WZYifDQjXKLzOs2Atrc3Q4MHYFYiid6xxDqFSwgn2o96qT85XAx8VtIWRJqSUURIaS3/0pKS9lFsUTngqPMlnAwMceQMWkARAnoysQEOwB1ldNtqeWZRJMLbjBhVbmv7HGITnhlb3X63U/u9FGtf1lasMXibSBS4P5G08Yedk5CTgF0lHSbpJsKUtlWLFYf84XUdWxALFTcETimdeKX0VBwOes72diesFRsT2cK7gqlm5tETSVsR6Ri2VextvBERFrgs8MOqp+vFXLYfYU65hUiY+AaRRmN5Qpn9sZ0j81ZRZlqfJ8wih9j+b3HEbkOstdnbdksXQElaxuNXU89LhH3OCcxFrCy+r1NmmW5C0p+AixzbFJxKKA0Tv9XJZfaxUDt8Vj3kWoFYZf0E4Y/YgvDTjCUSB17ZAvPyNISFYHT5fC9wiu1TFJt6rWF726ra60OOmYDBjnxcixMO/JUdC2L/DFznDia0rDHVzDwa8AyR+RbbvydWl/6MWNxX27tiA5UV4hVwMeGk/47tw4jR1PeIrLRPEeaUKUFxLEsoiANs70zsz7wrMcNbFNjdsd98SyOf6hTHNMTCxTWImea8wNmSpivmmqkyAkvjo/xOAL6hyC21NDCv7Wds/wIYotj57uBi5m0btu+xfSLRce5BzF5vIKIjf6IIK65a8Q8nAmdqXEUM7CBm0PMpwmhbRrlfNyLWTEEsIhwBrFs+H0dkCuh4GO9UOfOoTQ8lnUVksdxTkYtpUds3lw5wP2K6uq177EI4mW0vRYyiFiEU2D+I1Bo1hTVgnecN/EqbEGsvZgHOsH25pAUJ5/Uztv/YBpnWIxTX94l9z9+W9GvgNtu/aXX73Uzdc3AcYU+fi9hfYjrCx7Atkd7lXeB/nbgvFZlvP0FEIo1y5IU6G/iTK970S5E8dW/ba5fPexCpU75r+w1Jy7oNu1RKOhl4y/b+ZRZyNDGL/xWR+HNRlw3GOsnUOvOojTa/CzwmaTbbzwKPSjqM2GPgRWDJKhVHYQsikuRKYkp8UxkBDxrIigPG+4kkDVak//4WEZa8HXBDeTgPILLftuveWxk4z/ZlRXEsTURjPd+m9ruZ2nNwgO09i0lmI2KWvCDx+422/XIH78vVgHttP1sUx4ZEpurKd0J0bA38riLbLYSZcynCVAbwgKRhirQilVM3GzwK2ECxE+VbhJVivuIPGevIyLyhIrKwY0xV6zxqeHy6jOeB40pntyOxBuRpIllibevQqhOknUnsIf2fcv4JoisUC7nWAK71+JXAA4aa41HS5cSWm08r1rhsQKwcvhc4v1z7dnAHcJJi7ccahFP4Src42+9AoE4hWJEp4NdER3kykR3hOWCYpNGOTdQ6sRPm2YSz+iki/9NsRAjvoy1q7xDgeEmfITbxOrMM7hYl7p/LiBla5ZR+aZAjbPoc4n9/hPBB/Qk+yB83BvgfYdoa2QpZ+sNUabbqiaTfE47y79m+vJQNgg9lj6263Qn2BicWEa5FdLR32d6nVW23A0lLEg/8UGKkf6HtezsgxzeJfROeIWzmo8rfWYG7Hat703kufY3ING0iy+wGwEeJAdU2jj1A2q5AJH0eWA94FriC8E3MRSxsvMH2veV5dRVRkookqvMRJu0birN8S2KR6TeJnGQt6RfqTb+SViOenXuILLyHEDOxc2yf2NNM3G6mauWh8Un7lnTk06+Vf6gjkTTMLYqvLpEl6xMLCK8lHtbDgB3aYWNtFeUh3JOIIruqg3IMIqJX3lHsLrkYEagwjpgFbtgp2boBTZh9ehpiBjINcIHtvyhSzLxPLLZczfb5nZCxyHQSkSNtJBGAsbztT5Y6s7ouZ1gFbW5E3L8vAb93B7IOl0CFnQlf1M1Eks+u6BOmauXRk0ajKkmzE3HW3yI686srbG9BInb748R2pNsSKdvPKY7CjdoRGthKFNvBtnV3ugYy1BzDKxNbf55BOM+flnQJYUY7u5MydgtlIHMMsXXzO6VsO8IX8hzRYR9pu3KfQz9k2xrYlPAJPOfISHwqsUp+HSL9fyUZDEpbBxLRaLcQ0ZgfLX9vsn1XFe30Q46fEVFwxxGDyrmIsPMXgWtsP9cOORoxVfo8esMTri4dTIScfoeYrm7p6leYfp24IS8lckDdCPxU0lXEDfNKN3S+k0M3yF43tV+TyCp7JoRiI0axHZexi3gPWLzM0uYlnNO7Eiai2rqHTqVu/zwRmfgEfJCKZk1CoV1NOPorwfafJd3hWKO0FaGcFiMc9edLWrr49uZwCzY7q5sN/ijE8SvF/Lo0EXDzNPAVYP0ywH3Dbc6InDOPBhRb43cIe+MixN4U/606GkrSF4lFdMvVld1OpIQeQ6Q0v7uq9qZ2JG0L7GV77eIQXZnIa7aXY0HWMGJ2WfkWpAOBuhna0cSgZgjRST0JnOq6vSU6ERlYZkCbESlntiUW2L5ALGx80C3Yp16RXuePxDbG55Tr8xNi3cmzwCK2j6i63QZyfAvYAfiG7VtK2WVEzryhwPO2f9dqOerJmUcdxWn9UyKc9ne2P19u2J8TDsP3FbsCPlzFdNGRBXaH0sYNpd2HgW+6JIQrcg3oEN5uwfZ5ktaSdAPx8N8N/IJIS74fEVL8lKSZgTc76YzsECKc5T8g8q+NJhav3i9pZ0nzA4/avtBt2OCrJ44NvdYggh1uI8xX19t+o4XNDgfOqpk1JX2UCPV+hei0H1IsOG1ZZGTxQ60MfN327YoFgmsCsxOLB98hsg+3lZx5FOpGXRsBD7guHYOkK4kQvVeJDaT+Yfv0itpdkci59AKRruRsx2K6FYH1bB9XRTtJoMgYMCexedTMRJaBQ4l4+p95Kk+aWBdEsjyRGmQZYuS9MLAXEZX4lO2fdSJCTbGx2AZESpV2bNq0KnAaYSJaijCRfYqI+rqyhSHDtfZr/dKhxGzwJMJ8thoR+n4JcEX9YLNdpPKYCEXrH0NsZnQ5kSrgb8DYquz55YGYiVAeowiT2bqlrR+0eGQ1VSJpdcKWvzmhTD5J2PTfc8T1T/WhuwCK5Ja3EQEdWxHBI/cSeZ7a3mEVmdoaLizp68BOjM9L92sieGAcJTy4VdaBHqG7xxBmu4eJjdfOAKYv/pBaduS2WSlSefRCGaF+hhhlTE/sDXGhY7HUIKJTr3RvCsXGND8A/ktkz7w3FUf1lN/2FmJEPTuhuEcR4btDbK/fQfG6BkkLETtE7ujY4Os64r5cgdgbZaq4NxXZh48hUqLcVNbD7AmcR6QKqW3j2xIzXt1scDlgN+AnxCLBQ4kQ/3OBWW0f2k5TYiqPXih+iE2A+4j9lB8sTtavEGG7CwAPVWnrlHQI4Sj/A/CKx8feL+fIApu+j4qQNJftlyRdSuxfP6KUrwvc6tgWdapH0gXAVbZ/JWkDwlxztO3vd1i0tiJpJsciyd8TZqM5CR/ZjsBLto9qx/NZBq5zEtaPl4A5iHD/C4GDbd/aLgUytea26pXiNIfIqHmmY0Oa98qU8f+IKfs42/cAq0qas8LmtyKiJl4qI411JP0T+LUii2gqjoooimNRIkz3nrry61JxTJBn6VBgN0lrOBZ6DpvaFAdAURwLEwPuTxEhtHsQq75Xb8fzWZTC+0SiyJttb0QsI6jtS7RZkbUtM4KMtupB7cI79ja/tcwGliQiPE6wfaekhST9gIh4+B7hC6mC7xMJ0YYS0RWfIBZkdc0GMFMYixGZWtsaHz8Q8Pg8Sw9KOpwI6MCxsLJr99VuMQsQ9wy2f6/YauAG4NJ23EN113xpIscXRLbhvxKzkENbLUM9abbqA8UOa0cCNxEKYhoit80WxD4Dp9t+uMqHSdIRhMP8RML/MRY4gnCmX+LcxKhSJM1n+4WpuEPslbwmH0bSX4jsBL8oYcO7Avvafr0Nbdcir2YiEn7uWAaz+wCz2/5Bq2WYQJ68NxpT56SazrHa9nPEivBRxN4U15V6+wFr296qonY/Aszg8atodyIc93cDn7G9SRXtJEnSPIr9eI4BDnVdks92Dejqoqp2IQI8Dq4PWW7nwDJ9Hr1Qs18WxXEM4SQ/C9jJ9nWS1i/+iM2JhHFVtfssgKRvl6LRRPjoscTObrW9Bur9M0mStAHbjwB79lAc9VsqDJK0oKQ1W9T+e+XvGUQW8JcbHVfsOzJ7iRRrCTnz6IO6aeIiwDslXHERYhX6csDxtn/VgnZnIMxiGxKLkra3/Q1FYr/Rtp8qDs3F3eJFSkmSNKanWU/SrMSK9K2BrwEb2L6+nTKUstWJBZ1vE76R7auMCv2gnVQe/aOM8k8gOvRLgB/afrV2rGrbsKS9iFDhBwgH2ba1KKAS7z0Dkaxxqot8SZJuovggliK2V16XSHkzM5GZeLM2yzKIWIU+CjidyAP2mu3vVN5WKo/+oUiffhJhY3ywlLXUoSjpIGIV67XFMbY+sbr1TWC5dGYmSedQZN5ejFAYnwGmBZay/bFy/Eoi3f9vWizH/MRWtf+0/a6k04H3be8maRbgLmAT249X2W76PPpBsWk+Y3urErooiNC5Wjy8pJklraIK9xW2/eOyzuTJspjtXCLT7rJE5FctfUqSJO1nduDHhPI4owTN3FDC+CFMR+3Y92MlwjT1riJp4g3AdCWS8HXCYjJd1T7SVB79oH7xT8/ZRonIWphIdfF74GRJn62qbUlfZfy2qfPZ/k1xxp0saZkSeZG/Y5K0GdujiVT1X7J9RSk+gshyS/FHTqPITNFKrgTWkLRKWW/yHjETGV0WL55g+yFguiobTbPVJKK6TZok/RhY1vbmihQOh9heu6J25gVmtP2kIh30l4m0CO8R+zfvVUU7SZJMOsWE9cGGciWwZiuiE/8fcJRbs99Ifejulwk/x+rAvMQ6kHdLvVOAVW2vUlXbOWKdBBT7PXxK0pBS9ACxPSWOPSqLAQAADsZJREFUFA5vSPpSRc29CDyv2Azmx0Rq7J2L6WqOsso1w3aTpEMUa8Q4x86C80raEdgXWIjYHfRXrVAc8KHQ3auJdPVvAAcUM9ZXJT1P+GYq3dI605NMGgsS4brrlc9PEpsILevYnP77xKY6k03xq7xDhAZfYPu8usPvEJFYbctnkyTJhJRndDoiQeGqxA6MDxMr0T8IpW9VgI3GJ2Q8pnZ+SctJ+isRlfmVmlmtykWEqTyapNwA/5Z0P5EY7WhiWroSofEhsu2+WVWb5ebcte7G2JgIGZ6eCAtMkqSzLAlsQ1ghfluLbCrP6jDbpzJ+p8ZKqfPJDiqLAi8mBpuH2D6tBPPMQyR0faUqBZI+jyapS1syH+Go+h2xHeVitjdvcdtLEJvxDAEeAa6xfa+kGWvTYmXa9iTpCJI+afsWSVsQEVhXA9cDNxPrtB5p9fNZfKQ/IVIpzUnkyZuTMKE9afsrVbWVPo8m8fhsoy8A+xO7i70F7CFpS0kjJB0l6fNQeShtbfe084A/AQtLugI4rJbOJBVHknSGojg+Q4TGPgHsR6w4/yXRV7T0+Sz90ijbO5cFxQcRJvXTCOf9rLV+ogofac48KqA4zn9LOKV+BrwMHAesbntMlbZOSfPaHiXpZCJt+1LAIoRC+aXtK3L2kSSdQdLBwNy291Psf/47IiPF3bbPLXVanq1Y0maEWX03j8+XtyMw1PYPq2gjZx7V8FngZdsr2z7H9t+IHQi3hWqd2UVxLEbYUVcnRhU7AT8ntqjM2UeSdI6zgHXK+qwlgJHArMBNkpZS7FT5uZLSpJW8Dcxk+1lJ00ragdjv446qGkjlUQ3rEY4yACQtTkkr0qL2hhM3B8RMZxci0uP8FrWXJEk/sP0McCAxoPs/YrvYbxH9wa+IFEfjgJZluy1yXAWMlfQ74FZgRWB/23+XtKqkuWCCHSObJs1Wk0Gd83wlYnHOr4loih0JZ/Yhkj5u+4E+TzRpbd8GHGT72rJAaHNCibwFvF0itHIznyTpAJIOJdIJ/RfYAViD2NhtIyLb7hMtbLu2cHAOIupqGmInyOlL+/sQObf2max2sm+ZPGodtKT/I7apXBT4A5HT5kBgS+CLrjh1uqRtiD2LD7c9spR9j5iVXGP7xPR9JEnnKGGzxwHvEvmmLidMR7favrSNcgwhHOYbAnMRFpHhhAL586SG7qbymEwaje5Lx74ncC+R7+r+WiqTitteGHimzH6WJhxzm5a/29u+OxVIknQGSdsSA7wDgNdtv1HKlybCZt9q5fMpaU5gecInuwdwpO2flGMbEdvnTvLOpLlIcDJpoDg+BXyRWIF+i8ueH3XHq9wmchTwC0knENPSEcAzxMLBfYk0Jqk4kqQzPEZsHf0CfJA6/RJgDPAssStpK5/PzYhNqR4ALq1THMOIPmpE+TxJ5u10mFfPl4HHbF/h8ZtFbSXpdkkzF1tkJXmoymxmemA7268Qjri5bZ9GTJeTJOkQtu8EtpY0tBTNSKzy3gD4iKStYfKc1hPhGmB327sDi0jaW9LXiE3m3iT8tJMcDZrKoyLqboCrgeVLWN5qki4CfkAsFHpf0pLEVLIqvgtsI+mnRHqE2Ur5RyQtUydfJk5MkvZzJ3CmpLWA0cCDZQZyLLAFtC603rEHUS1Y52BgBcKB/hFi1jGPpC/U+olm+4j0ebSAElN9CJHL5mxCeczE/7d358F2j3ccx9+f1F6kNILRoqhdrak1GdF0Op1WTVQTmhlVtIytZDTMYEbtSw0phmkoah3LUEop1dpiryVGLZWg2iATgyJS4dM/nudwcmW5h3vvubnn85rJ5N7nd3+/88Rc53ue7fstv0jPU4auN7jUA+iJ19ua8ovxsO3HJI2hDEtnA8/aPq6Hp8sioptUMmJvansvSbcB+9l+UdLgrtPafdSfDSklcw+kTHHvABxn+95W3icy8uhBTZH7XuAxYITtYym7HH4BvEo5EX5JTwUOANsPAldQghXAKpT1kPHAGJWKYgkcEW1g+0xglRo41oWP1xne6usZAUlfomzi+YCSd+tRygfdCbWv3X6fyIJ5D6pbdgfZnkY9Xa5Sh3wdYBrl0NCvKPOPb1DqkN/VQy+/PnAq8C1K4Bps+zVJ1wEbUxbUI6I99qSkL3q4+Q26DeewVgaes318nT67jXLQ+EWVeufvdrdPCR49zHOXrD2Skt//RNuNnQ3HUA7qrAMMkfR8I/fM53zdRyTNqvlrhgLD66XjXaubRUR72H6dMhvQJ7mtFuAlYGNJW9j+u6SrKDMUJ7nUO++2TFv1gqah6NvAkk2BYxvK6GMnShnZCyiVAnvKYZRPOJsDF8MnZTHr6w9Sz2b5jYgWtStw1PWM94HzgZMlLWb7ZMqZtFvrrtBt6s8uNDZkwbyX1ZPnUyk7rNalJEkT5TT6T2zP6MnF7JqzZhAwq/mTRP1FadRXXrmx9zwiOo+kcZQsGC8ASwC3U6a2vwrsZnvawg4wZuTRS5pGH3dSdj6tTcm0e4rtfWr7qdDaItXC2J5pe0YjcEharLbPkbSkpAuB6ZK+3VOvGRGLhqb3pSuAxSmZd9+hbCP+MSV54zGw8C3ECR69pDE0resZtwPX277I9j/r1NHmwEu9NY0kabE6t9oYbYwHplOSpO1LmeKKiA7S9L5kyg7QI+qlqZT3pMuAV+qurAXKtFUvmk/eq70pJSKnA3v29j7vmsPmbMqJ0gNsT67ttwA32T6vN18/IvoXfZINfA3gT8DWwHXARNs3d3caPbutelEjcNSh4uqUwvQzgBMaWTV7KzGapCWAmyiHB4+wfUltX7KmNbmQUrQmadsjOog/KaX9kqTzKBt3hgJP1esfdud9ISOPPlIDyL7AVbb/20eveTNwl+3T6vTY4nW3BZImUbL9TkwAiegszf/Pf9aT7lnz6AM1ytv2pL4KHNX+wB6SVrL9YVPg+DkwCniiD/sSEf1E84fFpgSuyW0Vn5B0IqWW8iPAc5RiNEsDh9i+XdJSwHCXspUREd2SkccAZ/so4BrKmst4SmnMYcA9kr4H/A/YStLQ9vUyIhY1GXl0IEnbAj+iZNPcz/Zjbe5SRCxistuqQ9Tpqa9TytQOByYDI11LY9afSdr2iOiWjDw6RE1bchmlTO0k2w/WxI1rADNtH93WDkbEIiVrHh3C9kzgcNv71sAxhFJnZBIwXNLOUEYf7exnRCwaEjw6yz8knShpu1qM6t/ALOA04Cjo2TxbETFwJXh0kHqS/U3KYUUoidGWsn0zMFrSKpJWrHXWIyLmK8Gjw9g+HVhP0lnAJpQAAjAEuA/4HWUaa+k2dTEiFgFZMO9Akrak1BeZQdl1tRWlfO0uwOu2R7SxexGxCMjIowPZftT2RZTAcRBwCDATGAH8q9Y2joiYr4w8OpSkxSnlKJcBjrb9Qm0fBgy2fUc7+xcR/VsOCXYo2x9ImgVMs/2CpGWAjYCRwLaS3rV9fw4ORsS8ZOTRwWrA+BlloXwDYAtgY+B1YHnbO7exexHRj2XNo4PZfo9SSWwssB3wNDDG9jjgVUnfBZA0un29jIj+KNNWHc72c5JeAP5m+5mmSwdTsu0uRtnaOxSYkaJREQGZtop5kLQ5MIGy+2qM7fva3KWI6GcybRUfk7SapJOBS4GHgdWbA0erlcYiYuDKyCMAkLQccA8wBTgMGAyMBj4CXrZ9bRu7FxH9TIJHfEzS+rafkfQd4EDgXmBFyi6sq21fkK27EQEJHtFFXSC/EPgrcKXt2ZI2rG072p7d1g5GRL+QNY/oagNgNdsX18AxyPbTwLnA2lBGKG3tYUS0XYJHzMX2FGBZSbvWpkG1/TLgAElTgN0lLduuPkZE+yV4xLyMB0ZKWtL2HElrSboCGAPMsX2s7Xfa3MeIaKMEj/gU25OBk+q01WnAHcDLwNeA9yUNb2sHI6LtcsI85sn2dEnjgLWAUbanAkjaD5jW1s5FRNsleMSCDAEG2Z7atEV3SlKURESmrWK+bE8E3pW0QuNsRwJHREDOeURExGeQkUdERLQswSMiIlqW4BERES1L8IgBR5IlndH0/eGSjl3IPT+QdORCfmZHSX+cz7UXJQ35TB0u918sabfPen9fPzciwSMGotnArq28mdu+0fYpvdin+arJKCMWKQkeMRDNAX5LqUsyF0krSbpO0sP1z/a1fS9J59Sv15b0gKQpkk6Q1JyKZVlJ10p6RtLlXQpkTaj3PCRpnfqsNSXdKelJSX+RtHptv1jS+ZIeBE6r94+QNFnS1MZoQcXpkp6qzx7bjfZzJD0r6Q5gaNO//RRJT9e+/LpH/ktHx0rwiIHqXGCcpMFd2icCZ9oeBvwQuGAe904EJtreBHily7XNgUOBDSmn77dvuvZWvecc4KzadjZwie1vAJcDv2n6+a8A29keX79fFdgB+D7QGAXtCmwGbAqMAk6XtOoC2kcD69X+7QlsByDpy/XaRrUvJ8zj3x3RbQkeMSDZfhv4PXBIl0ujgHMkPQ7cCCw/jwzB2wLX1K+v6HLtIduv2P4IeBxYs+nalU1/b9v0rMYzLqUEh4ZruhTWusH2RzUF/sq1bQdKXZUPbb8G3AUMW0D7iKb2/wB31ue8BbwPXFgzJr9HxOeQ4BED2VnAPsAXm9oGAdvY3qz+Wa3FDMHNxbA+ZO4UP57P1/Pz7gKe3aP14m3PAb4JXEsZ2dzak8+PzpPgEQOW7TeAqykBpOHPwMGNbyRtNo9bH6BMaQHs3sJLjm36+/769eSmZ4yj1IlvxT3AWElfkLQSZWTx0ALa725qXxUYCVBHV4Nt30JZC9q0xX5EzCW7PGKgOwM4qOn7Q4BzJT1J+f2/G9i/yz2HApdJOoryCf2tbr7WCvW5s4E9atvBwEWSfgnMAH7aYv+vp0x9PUEZzUyw/aqkBbXvBDxNSaPfCGLLAX+QtBRlVDOeiM8hua0iupC0DDDLtiXtDuxhe5d29yuiP8nII+LTtqQsqgt4E9i7zf2J6Hcy8oiIiJZlwTwiIlqW4BERES1L8IiIiJYleERERMsSPCIiomUJHhER0bL/A3LB5TQ+7EUwAAAAAElFTkSuQmCC\n",
      "text/plain": [
       "<Figure size 432x288 with 1 Axes>"
      ]
     },
     "metadata": {
      "needs_background": "light"
     },
     "output_type": "display_data"
    }
   ],
   "source": [
    "top.plot.bar(rot=-60, width=0.6)\n",
    "plt.style.use('seaborn-poster')\n",
    "plt.title('Bridges Per Neighborhood')\n",
    "plt.xlabel('Neighborhoods')\n",
    "plt.ylabel('Number of Bridges')"
   ]
  },
  {
   "cell_type": "markdown",
   "metadata": {},
   "source": [
    "From the data, I was able to plot a bar graph and changed certain parameters, the style of the graph, and the titles the x-axis and y-axis.  Going further, I was able to make the graph more visually pleasing by rotating the x-axis titles and increasing the width of the bars."
   ]
  },
  {
   "cell_type": "code",
   "execution_count": 13,
   "metadata": {
    "collapsed": true,
    "jupyter": {
     "outputs_hidden": true
    }
   },
   "outputs": [
    {
     "data": {
      "text/plain": [
       "Text(0, 0.5, 'Number of Bridges')"
      ]
     },
     "execution_count": 13,
     "metadata": {},
     "output_type": "execute_result"
    },
    {
     "data": {
      "image/png": "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\n",
      "text/plain": [
       "<Figure size 921.6x633.6 with 1 Axes>"
      ]
     },
     "metadata": {
      "needs_background": "light"
     },
     "output_type": "display_data"
    }
   ],
   "source": [
    "top.plot(rot=-60)\n",
    "plt.style.use('seaborn-poster')\n",
    "plt.title('Bridges Per Neighborhood')\n",
    "plt.xlabel('Neighborhoods')\n",
    "plt.ylabel('Number of Bridges')"
   ]
  },
  {
   "cell_type": "markdown",
   "metadata": {},
   "source": [
    "To provide a second visual representation of the data, I chose to graph a plot graph more drastically in order to show the differernce in how many bridges there are in Squirrel Hill South and Central Business District compared to the other neighborhoods."
   ]
  },
  {
   "cell_type": "markdown",
   "metadata": {},
   "source": [
    "# Conclusion \n",
    "\n",
    "In conclusion, the best neighborhood based on my bridges dataset alone would be Squirrel Hill South because there is a total of 14 bridges that are connected to the neighborhood.  In this case, Squirrel Hill South would be the best neighborhood in a Zombie Apocalypse because it would be the easiest to cut off the bridge access points to get into the neighborhood. "
   ]
  },
  {
   "cell_type": "code",
   "execution_count": null,
   "metadata": {},
   "outputs": [],
   "source": []
  }
 ],
 "metadata": {
  "kernelspec": {
   "display_name": "Python 3",
   "language": "python",
   "name": "python3"
  },
  "language_info": {
   "codemirror_mode": {
    "name": "ipython",
    "version": 3
   },
   "file_extension": ".py",
   "mimetype": "text/x-python",
   "name": "python",
   "nbconvert_exporter": "python",
   "pygments_lexer": "ipython3",
   "version": "3.8.3"
  }
 },
 "nbformat": 4,
 "nbformat_minor": 4
}
